from playsound import playsound
file = "output_t_0.wav"
playsound(file) #to hear the audio input for yourself

import keras
import numpy as np
import librosa

class livePredictions:
    def __init__(self, path, file):
        self.path = path
        self.file = file

    def load_model(self):
        self.loaded_model = keras.models.load_model(self.path)

    def makepredictions(self):
        data, sampling_rate = librosa.load(self.file)
        mfccs = np.mean(librosa.feature.mfcc(y=data, sr=sampling_rate, n_mfcc=40).T, axis=0)
        x = np.expand_dims(mfccs, axis=1)
        x = np.expand_dims(x, axis=0)
        predictions = self.loaded_model.predict_classes(x)
        return "Emotion is "+self.convertclasstoemotion(predictions)

    @staticmethod
    def convertclasstoemotion(pred):
        label_conversion = {'0': 'neutral',
                            '1': 'calm',
                            '2': 'happy',
                            '3': 'sad',
                            '4': 'angry',
                            '5': 'fearful',
                            '6': 'disgust',
                            '7': 'surprised'}
        for key, value in label_conversion.items():
            if int(key) == pred:
                label = value
        return label
pred = livePredictions(path='testing_model(ADAM).h5',file="output_t_0.wav")
pred.load_model()
pred.makepredictions()
